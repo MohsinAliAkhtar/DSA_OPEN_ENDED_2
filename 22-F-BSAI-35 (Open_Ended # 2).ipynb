{
 "cells": [
  {
   "cell_type": "markdown",
   "metadata": {},
   "source": [
    "### (22-F-BSAI-35) (Mohsin Ali Akhtar)"
   ]
  },
  {
   "cell_type": "code",
   "execution_count": 3,
   "metadata": {},
   "outputs": [
    {
     "name": "stdout",
     "output_type": "stream",
     "text": [
      "Input: abccccdd => Palindrome: ccdadcc, Length: 7\n",
      "Input: a => Palindrome: a, Length: 1\n"
     ]
    }
   ],
   "source": [
    "def Longest_Palindrome(s):\n",
    "#Count how many times each character appears\n",
    "    char_count = {}\n",
    "    for char in s:\n",
    "        char_count[char] = char_count.get(char, 0) + 1\n",
    "    \n",
    "    left_half = ''\n",
    "    middle = ''\n",
    "    \n",
    "# Build left half and middle character\n",
    "    for char, count in char_count.items():\n",
    "        left_half += char * (count // 2)  # Add pairs to the left\n",
    "        if count % 2 == 1 and not middle:  # Use one odd char in the middle\n",
    "            middle = char\n",
    "\n",
    "# Combine left half, middle, and right half\n",
    "    palindrome = left_half + middle + left_half[::-1]\n",
    "    \n",
    "    return palindrome, len(palindrome)\n",
    "\n",
    "# Test cases\n",
    "input_string = \"abccccdd\"\n",
    "palindrome, length = Longest_Palindrome(input_string)\n",
    "print(f\"Input: {input_string} => Palindrome: {palindrome}, Length: {length}\")\n",
    "\n",
    "input_string2 = \"a\"\n",
    "palindrome2, length2 = Longest_Palindrome(input_string2)\n",
    "print(f\"Input: {input_string2} => Palindrome: {palindrome2}, Length: {length2}\")"
   ]
  }
 ],
 "metadata": {
  "kernelspec": {
   "display_name": "base",
   "language": "python",
   "name": "python3"
  },
  "language_info": {
   "codemirror_mode": {
    "name": "ipython",
    "version": 3
   },
   "file_extension": ".py",
   "mimetype": "text/x-python",
   "name": "python",
   "nbconvert_exporter": "python",
   "pygments_lexer": "ipython3",
   "version": "3.12.7"
  }
 },
 "nbformat": 4,
 "nbformat_minor": 2
}
